{
 "cells": [
  {
   "cell_type": "markdown",
   "metadata": {},
   "source": [
    "This notebook provides the instructions to build a nvidia-pytorch docker image.\\\n",
    "Reference : https://catalog.ngc.nvidia.com/orgs/nvidia/containers/pytorch\n"
   ]
  },
  {
   "cell_type": "markdown",
   "metadata": {},
   "source": [
    "Per NVIDIA, Install the following on the host machine\\\n",
    "1. Docker Engine: https://docs.docker.com/get-docker\n",
    "2. NVIDIA GPU Drivers on the host machine\n",
    "3. NVIDIA container toolkit: https://docs.nvidia.com/datacenter/cloud-native/container-toolkit/latest/install-guide.html"
   ]
  },
  {
   "cell_type": "markdown",
   "metadata": {},
   "source": [
    "Run the sample CUDA container at the end to ensure installation was sucessful. If GPU status is displayed, everything is fine!"
   ]
  },
  {
   "cell_type": "code",
   "execution_count": null,
   "metadata": {},
   "outputs": [],
   "source": [
    "!sudo docker run --rm --runtime=nvidia --gpus all ubuntu nvidia-smi"
   ]
  },
  {
   "cell_type": "code",
   "execution_count": null,
   "metadata": {},
   "outputs": [],
   "source": [
    "#pull the relevant pytorch nvidia container. this tutorial pulls 23.08\n",
    "#https://catalog.ngc.nvidia.com/orgs/nvidia/containers/pytorch/tags\n",
    "!docker pull nvcr.io/nvidia/pytorch:23.08-py3"
   ]
  },
  {
   "cell_type": "code",
   "execution_count": null,
   "metadata": {},
   "outputs": [],
   "source": [
    "#open a terminal and run the following command\\\n",
    "!docker run --gpus all -it --rm nvcr.io/nvidia/pytorch:23.08-py3\\\n",
    "\n",
    "\n",
    "#verify you can status the gpu with nvidia-smi\\\n",
    "#verify pytorch can status the gpu with\n",
    "\n",
    "import torch\n",
    "print(torch.cuda.is_available())\n",
    "True\n"
   ]
  },
  {
   "cell_type": "code",
   "execution_count": null,
   "metadata": {},
   "outputs": [],
   "source": [
    "#When actually running the container, you may want to link some folders ie:\n",
    "!docker run --gpus all -it --rm nvcr.io/nvidia/pytorch:23.08-py3 -v repos/steppenwolfe/:steppenwolfe\n"
   ]
  }
 ],
 "metadata": {
  "language_info": {
   "name": "python"
  },
  "orig_nbformat": 4
 },
 "nbformat": 4,
 "nbformat_minor": 2
}
