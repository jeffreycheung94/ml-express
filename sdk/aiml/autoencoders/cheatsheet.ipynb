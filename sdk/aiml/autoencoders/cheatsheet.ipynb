{
 "cells": [
  {
   "cell_type": "code",
   "execution_count": 2,
   "metadata": {},
   "outputs": [
    {
     "name": "stdout",
     "output_type": "stream",
     "text": [
      "Traceback (most recent call last):\n",
      "  File \"/mnt/c/Users/jeffr/SynologyDrive/Coding/repos/ml-express/sdk/aiml/autoencoders/ae/scripts/main.py\", line 10, in <module>\n",
      "    from cc.dataset.dataset import create_dataset\n",
      "ModuleNotFoundError: No module named 'cc'\n"
     ]
    }
   ],
   "source": [
    "#train the autoencoder on fashion mnist\n",
    "!python /mnt/c/Users/jeffr/SynologyDrive/Coding/repos/ml-express/sdk/aiml/autoencoders/ae/scripts/main.py --train "
   ]
  },
  {
   "cell_type": "code",
   "execution_count": null,
   "metadata": {},
   "outputs": [],
   "source": []
  }
 ],
 "metadata": {
  "kernelspec": {
   "display_name": "jeff",
   "language": "python",
   "name": "jeff"
  },
  "language_info": {
   "codemirror_mode": {
    "name": "ipython",
    "version": 3
   },
   "file_extension": ".py",
   "mimetype": "text/x-python",
   "name": "python",
   "nbconvert_exporter": "python",
   "pygments_lexer": "ipython3",
   "version": "3.8.13"
  }
 },
 "nbformat": 4,
 "nbformat_minor": 2
}
