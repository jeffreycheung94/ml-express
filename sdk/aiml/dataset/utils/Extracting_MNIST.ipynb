{
 "cells": [
  {
   "cell_type": "markdown",
   "metadata": {},
   "source": [
    "# Extracting MNIST images of IDX byte file\n",
    "This is an example how you can extract the images of a given IDX file. IDX is a format for vectors and multidimensional matrices of various numerical types.<br>\n",
    "If you extract the images, there will be ten subfolders created for each class including the images. You can use this method for extracting the following datasets:\n",
    "\n",
    "Fashion-MNIST: https://github.com/zalandoresearch/fashion-mnist<br>\n",
    "MNIST by Yann LeCun: http://yann.lecun.com/exdb/mnist/"
   ]
  },
  {
   "cell_type": "code",
   "execution_count": 4,
   "metadata": {
    "collapsed": true
   },
   "outputs": [],
   "source": [
    "import numpy as np\n",
    "import cv2, os, struct\n",
    "\n",
    "## TEST data\n",
    "# Fashion-MNIST\n",
    "test_labels_path = 'data/fashion_mnist/t10k-labels-idx1-ubyte' \n",
    "test_images_path = 'data/fashion_mnist/t10k-images-idx3-ubyte'\n",
    "# MNIST\n",
    "#test_labels_path = 'data/mnist/t10k-labels-idx1-ubyte'\n",
    "#test_images_path = 'data/mnist/t10k-images-idx3-ubyte'\n",
    "\n",
    "## TRAIN data\n",
    "# Fashion-MNIST\n",
    "train_labels_path = 'data/fashion_mnist/train-labels-idx1-ubyte'\n",
    "train_images_path = 'data/fashion_mnist/train-images-idx3-ubyte'\n",
    "# MNIST\n",
    "#train_labels_path = 'data/mnist/train-labels-idx1-ubyte'\n",
    "#train_images_path = 'data/mnist/train-images-idx3-ubyte'\n",
    "\n",
    "def extract_mnist(images_path, labels_path, save_folder):\n",
    "    '''\n",
    "    Extract images of an idx byte file\n",
    "    ----------\n",
    "    images_path : filepath of the images (idx byte)\n",
    "    labels_path : filepath of the labels (idx byte)\n",
    "    save_folder : path for saving the raw images in subfolders of each class\n",
    "    '''\n",
    "    \n",
    "    labels = []\n",
    "    \n",
    "    with open(labels_path, 'rb') as lbpath:\n",
    "        magic, n = struct.unpack('>II', lbpath.read(8))\n",
    "        labels = np.fromfile(lbpath, dtype=np.uint8)\n",
    "    \n",
    "    with open(images_path, \"rb\") as images_file:\n",
    "        images_file.read(4)\n",
    "        images_file.read(4)\n",
    "        images_file.read(4)\n",
    "        images_file.read(4)\n",
    "        count = 0\n",
    "        image = np.zeros((28, 28, 1), np.uint8)\n",
    "        image_bytes = images_file.read(784)\n",
    "        while image_bytes:\n",
    "            image_unsigned_char = struct.unpack(\"=784B\", image_bytes)\n",
    "            for i in range(784):\n",
    "                image.itemset(i, image_unsigned_char[i])\n",
    "            image_save_path = \"%s/%i/%d.png\" % (save_folder, labels[count], count)\n",
    "            save_path = \"%s/%i/\" % (save_folder, labels[count])\n",
    "            \n",
    "            if not os.path.exists(save_path):\n",
    "                os.makedirs(save_path)\n",
    "            \n",
    "            cv2.imwrite(image_save_path, image)\n",
    "            image_bytes = images_file.read(784)\n",
    "            count += 1"
   ]
  },
  {
   "cell_type": "markdown",
   "metadata": {},
   "source": [
    "#### Perform extraction"
   ]
  },
  {
   "cell_type": "code",
   "execution_count": 6,
   "metadata": {
    "collapsed": true,
    "scrolled": true
   },
   "outputs": [
    {
     "ename": "FileNotFoundError",
     "evalue": "[Errno 2] No such file or directory: 'data/fashion_mnist/train-labels-idx1-ubyte'",
     "output_type": "error",
     "traceback": [
      "\u001b[0;31m---------------------------------------------------------------------------\u001b[0m",
      "\u001b[0;31mFileNotFoundError\u001b[0m                         Traceback (most recent call last)",
      "Cell \u001b[0;32mIn[6], line 5\u001b[0m\n\u001b[1;32m      1\u001b[0m \u001b[38;5;66;03m# Test data saved in folder `data/test/fashion_mnist`\u001b[39;00m\n\u001b[1;32m      2\u001b[0m \u001b[38;5;66;03m# extract_mnist(test_images_path, test_labels_path,'')\u001b[39;00m\n\u001b[1;32m      3\u001b[0m \n\u001b[1;32m      4\u001b[0m \u001b[38;5;66;03m# Training data saved in folder `data/train/fashion_mnist`\u001b[39;00m\n\u001b[0;32m----> 5\u001b[0m \u001b[43mextract_mnist\u001b[49m\u001b[43m(\u001b[49m\u001b[43mtrain_images_path\u001b[49m\u001b[43m,\u001b[49m\u001b[43m \u001b[49m\u001b[43mtrain_labels_path\u001b[49m\u001b[43m,\u001b[49m\u001b[38;5;124;43m'\u001b[39;49m\u001b[38;5;124;43m/mnt/c/Users/jeffr/SynologyDrive/Coding/repos/ml-express/sdk/aiml/autoencoders/ae/scripts/data/FashionMNIST/raw\u001b[39;49m\u001b[38;5;124;43m'\u001b[39;49m\u001b[43m)\u001b[49m\n",
      "Cell \u001b[0;32mIn[4], line 31\u001b[0m, in \u001b[0;36mextract_mnist\u001b[0;34m(images_path, labels_path, save_folder)\u001b[0m\n\u001b[1;32m     21\u001b[0m \u001b[38;5;250m\u001b[39m\u001b[38;5;124;03m'''\u001b[39;00m\n\u001b[1;32m     22\u001b[0m \u001b[38;5;124;03mExtract images of an idx byte file\u001b[39;00m\n\u001b[1;32m     23\u001b[0m \u001b[38;5;124;03m----------\u001b[39;00m\n\u001b[0;32m   (...)\u001b[0m\n\u001b[1;32m     26\u001b[0m \u001b[38;5;124;03msave_folder : path for saving the raw images in subfolders of each class\u001b[39;00m\n\u001b[1;32m     27\u001b[0m \u001b[38;5;124;03m'''\u001b[39;00m\n\u001b[1;32m     29\u001b[0m labels \u001b[38;5;241m=\u001b[39m []\n\u001b[0;32m---> 31\u001b[0m \u001b[38;5;28;01mwith\u001b[39;00m \u001b[38;5;28;43mopen\u001b[39;49m\u001b[43m(\u001b[49m\u001b[43mlabels_path\u001b[49m\u001b[43m,\u001b[49m\u001b[43m \u001b[49m\u001b[38;5;124;43m'\u001b[39;49m\u001b[38;5;124;43mrb\u001b[39;49m\u001b[38;5;124;43m'\u001b[39;49m\u001b[43m)\u001b[49m \u001b[38;5;28;01mas\u001b[39;00m lbpath:\n\u001b[1;32m     32\u001b[0m     magic, n \u001b[38;5;241m=\u001b[39m struct\u001b[38;5;241m.\u001b[39munpack(\u001b[38;5;124m'\u001b[39m\u001b[38;5;124m>II\u001b[39m\u001b[38;5;124m'\u001b[39m, lbpath\u001b[38;5;241m.\u001b[39mread(\u001b[38;5;241m8\u001b[39m))\n\u001b[1;32m     33\u001b[0m     labels \u001b[38;5;241m=\u001b[39m np\u001b[38;5;241m.\u001b[39mfromfile(lbpath, dtype\u001b[38;5;241m=\u001b[39mnp\u001b[38;5;241m.\u001b[39muint8)\n",
      "File \u001b[0;32m~/anaconda3/envs/jeff/lib/python3.8/site-packages/IPython/core/interactiveshell.py:284\u001b[0m, in \u001b[0;36m_modified_open\u001b[0;34m(file, *args, **kwargs)\u001b[0m\n\u001b[1;32m    277\u001b[0m \u001b[38;5;28;01mif\u001b[39;00m file \u001b[38;5;129;01min\u001b[39;00m {\u001b[38;5;241m0\u001b[39m, \u001b[38;5;241m1\u001b[39m, \u001b[38;5;241m2\u001b[39m}:\n\u001b[1;32m    278\u001b[0m     \u001b[38;5;28;01mraise\u001b[39;00m \u001b[38;5;167;01mValueError\u001b[39;00m(\n\u001b[1;32m    279\u001b[0m         \u001b[38;5;124mf\u001b[39m\u001b[38;5;124m\"\u001b[39m\u001b[38;5;124mIPython won\u001b[39m\u001b[38;5;124m'\u001b[39m\u001b[38;5;124mt let you open fd=\u001b[39m\u001b[38;5;132;01m{\u001b[39;00mfile\u001b[38;5;132;01m}\u001b[39;00m\u001b[38;5;124m by default \u001b[39m\u001b[38;5;124m\"\u001b[39m\n\u001b[1;32m    280\u001b[0m         \u001b[38;5;124m\"\u001b[39m\u001b[38;5;124mas it is likely to crash IPython. If you know what you are doing, \u001b[39m\u001b[38;5;124m\"\u001b[39m\n\u001b[1;32m    281\u001b[0m         \u001b[38;5;124m\"\u001b[39m\u001b[38;5;124myou can use builtins\u001b[39m\u001b[38;5;124m'\u001b[39m\u001b[38;5;124m open.\u001b[39m\u001b[38;5;124m\"\u001b[39m\n\u001b[1;32m    282\u001b[0m     )\n\u001b[0;32m--> 284\u001b[0m \u001b[38;5;28;01mreturn\u001b[39;00m \u001b[43mio_open\u001b[49m\u001b[43m(\u001b[49m\u001b[43mfile\u001b[49m\u001b[43m,\u001b[49m\u001b[43m \u001b[49m\u001b[38;5;241;43m*\u001b[39;49m\u001b[43margs\u001b[49m\u001b[43m,\u001b[49m\u001b[43m \u001b[49m\u001b[38;5;241;43m*\u001b[39;49m\u001b[38;5;241;43m*\u001b[39;49m\u001b[43mkwargs\u001b[49m\u001b[43m)\u001b[49m\n",
      "\u001b[0;31mFileNotFoundError\u001b[0m: [Errno 2] No such file or directory: 'data/fashion_mnist/train-labels-idx1-ubyte'"
     ]
    }
   ],
   "source": [
    "# Test data saved in folder `data/test/fashion_mnist`\n",
    "extract_mnist(test_images_path, test_labels_path,'data/test/fashion_mnistz')\n",
    "\n",
    "# Training data saved in folder `data/train/fashion_mnist`\n",
    "extract_mnist(train_images_path, train_labels_path,'data/train/fashion_mnist')"
   ]
  }
 ],
 "metadata": {
  "kernelspec": {
   "display_name": "Python 3",
   "language": "python",
   "name": "python3"
  },
  "language_info": {
   "codemirror_mode": {
    "name": "ipython",
    "version": 3
   },
   "file_extension": ".py",
   "mimetype": "text/x-python",
   "name": "python",
   "nbconvert_exporter": "python",
   "pygments_lexer": "ipython3",
   "version": "3.10.12"
  }
 },
 "nbformat": 4,
 "nbformat_minor": 2
}
